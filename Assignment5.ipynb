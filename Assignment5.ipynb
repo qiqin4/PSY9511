{
 "cells": [
  {
   "cell_type": "markdown",
   "metadata": {},
   "source": [
    "The task is as follows:\n",
    "- Download the Credit.csv dataset from ISL: https://www.statlearning.com/s/Credit.csv\n",
    "- Preprocess the dataset as you see fit.\n",
    "- Fit non-linear models (GLM, GAM, RF, XGBoost) to predict Balance from the other variables in the dataset. You are not allowed to use the Income variable as a predictor, due to its high collinearity with Balance. Whether you fit one or more types of models is up to you, the same goes for the choice of hyperparameters and how you find them. However, you should aim for achieving good predictive performance, and being relatively certain the performance holds up in new data. In other words, using a train/validation/test-split or a (nested) cross-validation is probably a good idea. When you are satisfied, report model performance in a comprehensible manner.\n",
    "- Reflect on the choices you made: Why did you choose the model(s) you did? What about the hyperparameters? How did you tune them?\n",
    "- Reflect upon the performance of the model(s): How well did it/they perform? What would you expect the performance to be on new data? How can you argue this is the case? What other choices could have made you more or less certain about this?"
   ]
  },
  {
   "cell_type": "code",
   "execution_count": 2,
   "metadata": {},
   "outputs": [
    {
     "name": "stdout",
     "output_type": "stream",
     "text": [
      "      Income  Limit  Rating  Cards  Age  Education  Own Student Married  \\\n",
      "0     14.891   3606     283      2   34         11   No      No     Yes   \n",
      "1    106.025   6645     483      3   82         15  Yes     Yes     Yes   \n",
      "2    104.593   7075     514      4   71         11   No      No      No   \n",
      "3    148.924   9504     681      3   36         11  Yes      No      No   \n",
      "4     55.882   4897     357      2   68         16   No      No     Yes   \n",
      "..       ...    ...     ...    ...  ...        ...  ...     ...     ...   \n",
      "395   12.096   4100     307      3   32         13   No      No     Yes   \n",
      "396   13.364   3838     296      5   65         17   No      No      No   \n",
      "397   57.872   4171     321      5   67         12  Yes      No     Yes   \n",
      "398   37.728   2525     192      1   44         13   No      No     Yes   \n",
      "399   18.701   5524     415      5   64          7  Yes      No      No   \n",
      "\n",
      "    Region  Balance  \n",
      "0    South      333  \n",
      "1     West      903  \n",
      "2     West      580  \n",
      "3     West      964  \n",
      "4    South      331  \n",
      "..     ...      ...  \n",
      "395  South      560  \n",
      "396   East      480  \n",
      "397  South      138  \n",
      "398  South        0  \n",
      "399   West      966  \n",
      "\n",
      "[400 rows x 11 columns]\n"
     ]
    }
   ],
   "source": [
    "# 1: Load the dataset\n",
    "import pandas as pd\n",
    "url = \"https://www.statlearning.com/s/Credit.csv\"\n",
    "Credit = pd.read_csv(url)\n",
    "print(Credit)"
   ]
  }
 ],
 "metadata": {
  "kernelspec": {
   "display_name": "python-for-scicomp",
   "language": "python",
   "name": "python3"
  },
  "language_info": {
   "codemirror_mode": {
    "name": "ipython",
    "version": 3
   },
   "file_extension": ".py",
   "mimetype": "text/x-python",
   "name": "python",
   "nbconvert_exporter": "python",
   "pygments_lexer": "ipython3",
   "version": "3.12.7"
  }
 },
 "nbformat": 4,
 "nbformat_minor": 2
}
