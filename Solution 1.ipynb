{
 "cells": [
  {
   "cell_type": "markdown",
   "id": "b0883ad8-7b1f-4197-b902-8b5ed72ffbe7",
   "metadata": {},
   "source": [
    "In this week's exercise you will focus on getting a working programming environment up and running on your own computer, and do some simple data manipulation. You will also answer some somewhat theoretical questions to start your thought processes on how to use machine learning. You can submit this assignment in whatever readable format you like. A Jupyter Notebook (for Python) or Quarto (for R) are recommended, but scripts are also fine. When the exercises involve coding, make sure you show both the output and the code you used to produce it. I should be able to copy your code, run it on my own machine, and get the same results."
   ]
  },
  {
   "cell_type": "markdown",
   "id": "ed5bf793-c536-4ef1-8906-745549bdbae5",
   "metadata": {},
   "source": [
    "### Exercise 1"
   ]
  },
  {
   "cell_type": "markdown",
   "id": "cc17acf3-3ba0-4b58-8dda-b56dfb9a2936",
   "metadata": {},
   "source": [
    "Follow the steps in Chapter 2.3 of Introduction to Statistical Learning to make sure your system is set up correctly, whether you want to use Python or R. Then do the following exercises:\n",
    "\n",
    "- Create a vector of 100 standard normally distributed numbers and visualize them with a histogram."
   ]
  },
  {
   "cell_type": "code",
   "execution_count": 4,
   "id": "e5b3b331-6e10-4864-bee2-f65da8b3d51f",
   "metadata": {},
   "outputs": [
    {
     "data": {
      "image/png": "[encoded data removed]",
      "text/plain": [
       "<Figure size 640x480 with 1 Axes>"
      ]
     },
     "metadata": {},
     "output_type": "display_data"
    }
   ],
   "source": [
    "import matplotlib.pyplot as plt\n",
    "import numpy as np\n",
    "import pandas as pd\n",
    "\n",
    "\n",
    "v = np.random.normal(0, 1, 100)\n",
    "plt.hist(v, bins=25)\n",
    "plt.show()"
   ]
  },
  {
   "cell_type": "markdown",
   "id": "c0f7f8a7-b419-4298-a733-77fff388e03c",
   "metadata": {},
   "source": [
    "- Show rows 5, 8, 9, and 10 of the Auto dataset."
   ]
  },
  {
   "cell_type": "code",
   "execution_count": 9,
   "id": "fb2a131d-b8aa-46cd-b6b4-969e70c1f855",
   "metadata": {},
   "outputs": [
    {
     "data": {
      "text/html": [
       "<div>\n",
       "<style scoped>\n",
       "    .dataframe tbody tr th:only-of-type {\n",
       "        vertical-align: middle;\n",
       "    }\n",
       "\n",
       "    .dataframe tbody tr th {\n",
       "        vertical-align: top;\n",
       "    }\n",
       "\n",
       "    .dataframe thead th {\n",
       "        text-align: right;\n",
       "    }\n",
       "</style>\n",
       "<table border=\"1\" class=\"dataframe\">\n",
       "  <thead>\n",
       "    <tr style=\"text-align: right;\">\n",
       "      <th></th>\n",
       "      <th>mpg</th>\n",
       "      <th>cylinders</th>\n",
       "      <th>displacement</th>\n",
       "      <th>horsepower</th>\n",
       "      <th>weight</th>\n",
       "      <th>acceleration</th>\n",
       "      <th>year</th>\n",
       "      <th>origin</th>\n",
       "      <th>name</th>\n",
       "    </tr>\n",
       "  </thead>\n",
       "  <tbody>\n",
       "    <tr>\n",
       "      <th>5</th>\n",
       "      <td>15.0</td>\n",
       "      <td>8</td>\n",
       "      <td>429.0</td>\n",
       "      <td>198</td>\n",
       "      <td>4341</td>\n",
       "      <td>10.0</td>\n",
       "      <td>70</td>\n",
       "      <td>1</td>\n",
       "      <td>ford galaxie 500</td>\n",
       "    </tr>\n",
       "    <tr>\n",
       "      <th>8</th>\n",
       "      <td>14.0</td>\n",
       "      <td>8</td>\n",
       "      <td>455.0</td>\n",
       "      <td>225</td>\n",
       "      <td>4425</td>\n",
       "      <td>10.0</td>\n",
       "      <td>70</td>\n",
       "      <td>1</td>\n",
       "      <td>pontiac catalina</td>\n",
       "    </tr>\n",
       "    <tr>\n",
       "      <th>9</th>\n",
       "      <td>15.0</td>\n",
       "      <td>8</td>\n",
       "      <td>390.0</td>\n",
       "      <td>190</td>\n",
       "      <td>3850</td>\n",
       "      <td>8.5</td>\n",
       "      <td>70</td>\n",
       "      <td>1</td>\n",
       "      <td>amc ambassador dpl</td>\n",
       "    </tr>\n",
       "    <tr>\n",
       "      <th>10</th>\n",
       "      <td>15.0</td>\n",
       "      <td>8</td>\n",
       "      <td>383.0</td>\n",
       "      <td>170</td>\n",
       "      <td>3563</td>\n",
       "      <td>10.0</td>\n",
       "      <td>70</td>\n",
       "      <td>1</td>\n",
       "      <td>dodge challenger se</td>\n",
       "    </tr>\n",
       "  </tbody>\n",
       "</table>\n",
       "</div>"
      ],
      "text/plain": [
       "     mpg  cylinders  displacement horsepower  weight  acceleration  year  \\\n",
       "5   15.0          8         429.0        198    4341          10.0    70   \n",
       "8   14.0          8         455.0        225    4425          10.0    70   \n",
       "9   15.0          8         390.0        190    3850           8.5    70   \n",
       "10  15.0          8         383.0        170    3563          10.0    70   \n",
       "\n",
       "    origin                 name  \n",
       "5        1     ford galaxie 500  \n",
       "8        1     pontiac catalina  \n",
       "9        1   amc ambassador dpl  \n",
       "10       1  dodge challenger se  "
      ]
     },
     "execution_count": 9,
     "metadata": {},
     "output_type": "execute_result"
    }
   ],
   "source": [
    "df = pd.read_csv('https://www.statlearning.com/s/Auto.csv')\n",
    "\n",
    "df.iloc[[5, 8, 9, 10]]"
   ]
  },
  {
   "cell_type": "markdown",
   "id": "ff4bddcf-9d9e-46aa-ac24-5513f1254086",
   "metadata": {},
   "source": [
    "- Show the last three columns of the Auto dataset."
   ]
  },
  {
   "cell_type": "code",
   "execution_count": 6,
   "id": "7a720388-72ad-4262-b40a-268f7e87a48f",
   "metadata": {},
   "outputs": [
    {
     "data": {
      "text/html": [
       "<div>\n",
       "<style scoped>\n",
       "    .dataframe tbody tr th:only-of-type {\n",
       "        vertical-align: middle;\n",
       "    }\n",
       "\n",
       "    .dataframe tbody tr th {\n",
       "        vertical-align: top;\n",
       "    }\n",
       "\n",
       "    .dataframe thead th {\n",
       "        text-align: right;\n",
       "    }\n",
       "</style>\n",
       "<table border=\"1\" class=\"dataframe\">\n",
       "  <thead>\n",
       "    <tr style=\"text-align: right;\">\n",
       "      <th></th>\n",
       "      <th>year</th>\n",
       "      <th>origin</th>\n",
       "      <th>name</th>\n",
       "    </tr>\n",
       "  </thead>\n",
       "  <tbody>\n",
       "    <tr>\n",
       "      <th>0</th>\n",
       "      <td>70</td>\n",
       "      <td>1</td>\n",
       "      <td>chevrolet chevelle malibu</td>\n",
       "    </tr>\n",
       "    <tr>\n",
       "      <th>1</th>\n",
       "      <td>70</td>\n",
       "      <td>1</td>\n",
       "      <td>buick skylark 320</td>\n",
       "    </tr>\n",
       "    <tr>\n",
       "      <th>2</th>\n",
       "      <td>70</td>\n",
       "      <td>1</td>\n",
       "      <td>plymouth satellite</td>\n",
       "    </tr>\n",
       "    <tr>\n",
       "      <th>3</th>\n",
       "      <td>70</td>\n",
       "      <td>1</td>\n",
       "      <td>amc rebel sst</td>\n",
       "    </tr>\n",
       "    <tr>\n",
       "      <th>4</th>\n",
       "      <td>70</td>\n",
       "      <td>1</td>\n",
       "      <td>ford torino</td>\n",
       "    </tr>\n",
       "    <tr>\n",
       "      <th>...</th>\n",
       "      <td>...</td>\n",
       "      <td>...</td>\n",
       "      <td>...</td>\n",
       "    </tr>\n",
       "    <tr>\n",
       "      <th>392</th>\n",
       "      <td>82</td>\n",
       "      <td>1</td>\n",
       "      <td>ford mustang gl</td>\n",
       "    </tr>\n",
       "    <tr>\n",
       "      <th>393</th>\n",
       "      <td>82</td>\n",
       "      <td>2</td>\n",
       "      <td>vw pickup</td>\n",
       "    </tr>\n",
       "    <tr>\n",
       "      <th>394</th>\n",
       "      <td>82</td>\n",
       "      <td>1</td>\n",
       "      <td>dodge rampage</td>\n",
       "    </tr>\n",
       "    <tr>\n",
       "      <th>395</th>\n",
       "      <td>82</td>\n",
       "      <td>1</td>\n",
       "      <td>ford ranger</td>\n",
       "    </tr>\n",
       "    <tr>\n",
       "      <th>396</th>\n",
       "      <td>82</td>\n",
       "      <td>1</td>\n",
       "      <td>chevy s-10</td>\n",
       "    </tr>\n",
       "  </tbody>\n",
       "</table>\n",
       "<p>397 rows × 3 columns</p>\n",
       "</div>"
      ],
      "text/plain": [
       "     year  origin                       name\n",
       "0      70       1  chevrolet chevelle malibu\n",
       "1      70       1          buick skylark 320\n",
       "2      70       1         plymouth satellite\n",
       "3      70       1              amc rebel sst\n",
       "4      70       1                ford torino\n",
       "..    ...     ...                        ...\n",
       "392    82       1            ford mustang gl\n",
       "393    82       2                  vw pickup\n",
       "394    82       1              dodge rampage\n",
       "395    82       1                ford ranger\n",
       "396    82       1                 chevy s-10\n",
       "\n",
       "[397 rows x 3 columns]"
      ]
     },
     "execution_count": 6,
     "metadata": {},
     "output_type": "execute_result"
    }
   ],
   "source": [
    "df[df.columns[-3:]]"
   ]
  },
  {
   "cell_type": "markdown",
   "id": "3b9a7500-f748-44d3-aa9a-b700bc705d9b",
   "metadata": {},
   "source": [
    "- Show all cars with five cylinders in the Auto dataset."
   ]
  },
  {
   "cell_type": "code",
   "execution_count": 7,
   "id": "9a12a7e3-9b81-4449-90bd-70993cffc3a5",
   "metadata": {},
   "outputs": [
    {
     "data": {
      "text/html": [
       "<div>\n",
       "<style scoped>\n",
       "    .dataframe tbody tr th:only-of-type {\n",
       "        vertical-align: middle;\n",
       "    }\n",
       "\n",
       "    .dataframe tbody tr th {\n",
       "        vertical-align: top;\n",
       "    }\n",
       "\n",
       "    .dataframe thead th {\n",
       "        text-align: right;\n",
       "    }\n",
       "</style>\n",
       "<table border=\"1\" class=\"dataframe\">\n",
       "  <thead>\n",
       "    <tr style=\"text-align: right;\">\n",
       "      <th></th>\n",
       "      <th>mpg</th>\n",
       "      <th>cylinders</th>\n",
       "      <th>displacement</th>\n",
       "      <th>horsepower</th>\n",
       "      <th>weight</th>\n",
       "      <th>acceleration</th>\n",
       "      <th>year</th>\n",
       "      <th>origin</th>\n",
       "      <th>name</th>\n",
       "    </tr>\n",
       "  </thead>\n",
       "  <tbody>\n",
       "    <tr>\n",
       "      <th>274</th>\n",
       "      <td>20.3</td>\n",
       "      <td>5</td>\n",
       "      <td>131.0</td>\n",
       "      <td>103</td>\n",
       "      <td>2830</td>\n",
       "      <td>15.9</td>\n",
       "      <td>78</td>\n",
       "      <td>2</td>\n",
       "      <td>audi 5000</td>\n",
       "    </tr>\n",
       "    <tr>\n",
       "      <th>297</th>\n",
       "      <td>25.4</td>\n",
       "      <td>5</td>\n",
       "      <td>183.0</td>\n",
       "      <td>77</td>\n",
       "      <td>3530</td>\n",
       "      <td>20.1</td>\n",
       "      <td>79</td>\n",
       "      <td>2</td>\n",
       "      <td>mercedes benz 300d</td>\n",
       "    </tr>\n",
       "    <tr>\n",
       "      <th>327</th>\n",
       "      <td>36.4</td>\n",
       "      <td>5</td>\n",
       "      <td>121.0</td>\n",
       "      <td>67</td>\n",
       "      <td>2950</td>\n",
       "      <td>19.9</td>\n",
       "      <td>80</td>\n",
       "      <td>2</td>\n",
       "      <td>audi 5000s (diesel)</td>\n",
       "    </tr>\n",
       "  </tbody>\n",
       "</table>\n",
       "</div>"
      ],
      "text/plain": [
       "      mpg  cylinders  displacement horsepower  weight  acceleration  year  \\\n",
       "274  20.3          5         131.0        103    2830          15.9    78   \n",
       "297  25.4          5         183.0         77    3530          20.1    79   \n",
       "327  36.4          5         121.0         67    2950          19.9    80   \n",
       "\n",
       "     origin                 name  \n",
       "274       2            audi 5000  \n",
       "297       2   mercedes benz 300d  \n",
       "327       2  audi 5000s (diesel)  "
      ]
     },
     "execution_count": 7,
     "metadata": {},
     "output_type": "execute_result"
    }
   ],
   "source": [
    "df[df['cylinders'] == 5]"
   ]
  },
  {
   "cell_type": "markdown",
   "id": "48795457-324b-4dd3-a364-ef0681243990",
   "metadata": {},
   "source": [
    "### Exercise 2"
   ]
  },
  {
   "cell_type": "markdown",
   "id": "ab3c1a31-37a6-4cb1-bffa-90b52dc38986",
   "metadata": {},
   "source": [
    "According to Wikipedia \"Statistical bias is a systematic tendency in which the methods used to gather data and generate statistics present an inaccurate, skewed or biased depiction of reality\" and \"Variance is a measure of dispersion, meaning it is a measure of how far a set of numbers is spread out from their average value.\" Source: https://en.wikipedia.org/wiki/Bias_(statistics). and https://en.wikipedia.org/wiki/Variance.. \n",
    "\n",
    "In light of the Wikipedia definitions, answer the following questions:\n",
    "\n",
    "- Consider Figure 2.11 in Introduction to Statistical Learning. Imagine we have a new observation with feature value x=70, and we want to make a prediction. Why does a prediction produced using the linear regression fit (yellow line) have higher bias than a prediction produced using the spline fits (blue line and green line)?"
   ]
  },
  {
   "cell_type": "markdown",
   "id": "8da24bcc-caef-4fc8-94f3-49b61042d132",
   "metadata": {},
   "source": [
    "There is a systematic tendency to how the predictions originating from the linear regression fit is missing the true pattern in the data, which is equivalent with a high bias. For the blue and green line the misses appear more random"
   ]
  },
  {
   "cell_type": "markdown",
   "id": "82b649ee-5faa-4ae8-997f-f1b1bac824a5",
   "metadata": {},
   "source": [
    "- Consider Figure 2.10 in Introduction to Statistical Learning. Why does the very flexible fit (green line) have high variance?"
   ]
  },
  {
   "cell_type": "markdown",
   "id": "82a4d018-8df0-41c6-9248-ddbb42cb6242",
   "metadata": {},
   "source": [
    "The green line has a high variance because it very closely fits the training points without showing evidence for having found a simpler, more general trend. Thus, the procedure yielding the green line would rely heavily on the exact datapoints used for training the model"
   ]
  },
  {
   "cell_type": "markdown",
   "id": "82e8bc6e-9a69-4c35-8162-d7de12bea6ed",
   "metadata": {},
   "source": [
    "Now answer the following questions:\n",
    "- Consider Figure 2.11 again. Do any of the lines underfit the data? Do any of the lines overfit the data? "
   ]
  },
  {
   "cell_type": "markdown",
   "id": "b1eb709c-6c92-4c83-b1b2-74e9f0880397",
   "metadata": {},
   "source": [
    "The yellow line underfits the data, the blue line overfits it slightly, and the green line overfits it a bit more"
   ]
  },
  {
   "cell_type": "markdown",
   "id": "570b4543-4f71-443f-8fe3-607828936731",
   "metadata": {},
   "source": [
    "- Consider Figure 2.10 again. Do any of the lines underfit the data? Do any of the lines overfit the data?"
   ]
  },
  {
   "cell_type": "markdown",
   "id": "a658477b-4ee7-4271-900a-5eb7120762b8",
   "metadata": {},
   "source": [
    "The green line overfits the data, the blue and yellow seem to be slightly underfitting"
   ]
  },
  {
   "cell_type": "code",
   "execution_count": null,
   "id": "a98eceaf-043f-4670-9fd0-361223b4da6c",
   "metadata": {},
   "outputs": [],
   "source": []
  }
 ],
 "metadata": {
  "kernelspec": {
   "display_name": "Python 3 (ipykernel)",
   "language": "python",
   "name": "python3"
  },
  "language_info": {
   "codemirror_mode": {
    "name": "ipython",
    "version": 3
   },
   "file_extension": ".py",
   "mimetype": "text/x-python",
   "name": "python",
   "nbconvert_exporter": "python",
   "pygments_lexer": "ipython3",
   "version": "3.12.4"
  }
 },
 "nbformat": 4,
 "nbformat_minor": 5
}
