{
 "cells": [
  {
   "cell_type": "markdown",
   "id": "7b1074bd-9319-41a0-9679-2a10a011819a",
   "metadata": {},
   "source": [
    "### 0. Prepare the dataset for the subsequent modelling.\n",
    "1. Download the heart disease dataset from https://www.statlearning.com/s/Heart.csv\n",
    "2. Load the dataset and drop all variables except the predictors Age, Sex, ChestPain, RestBP, Chol, and the target variable AHD. Drop all rows containing a NaN value.\n",
    "3. Onehot encode the variable ChestPain. This means that where you before had a single column with one of four values ['typical', 'asymptomatic', 'nonanginal', 'nontypical'], you will now have four binary columns (their names don't matter), akin to 'ChestPain_typical' 'ChestPain_asymptomatic', 'ChestPain_nonanginal', 'ChestPain_nontypical'. A row that before had ChestPain='typical' will now have ChestPain_typical=1 and the other three columns set to 0, ChestPain='asymptomatic' will have ChestPain_asymptomatic=1 and the other three set to 0, etc.\n",
    "4. Binary encode the target variable AHD such that 'No'=0 and 'Yes'=1."
   ]
  },
  {
   "cell_type": "code",
   "execution_count": 1,
   "id": "4549978f-4e28-4edd-bef9-aa114a306ae1",
   "metadata": {},
   "outputs": [
    {
     "data": {
      "text/html": [
       "<div>\n",
       "<style scoped>\n",
       "    .dataframe tbody tr th:only-of-type {\n",
       "        vertical-align: middle;\n",
       "    }\n",
       "\n",
       "    .dataframe tbody tr th {\n",
       "        vertical-align: top;\n",
       "    }\n",
       "\n",
       "    .dataframe thead th {\n",
       "        text-align: right;\n",
       "    }\n",
       "</style>\n",
       "<table border=\"1\" class=\"dataframe\">\n",
       "  <thead>\n",
       "    <tr style=\"text-align: right;\">\n",
       "      <th></th>\n",
       "      <th>Age</th>\n",
       "      <th>Sex</th>\n",
       "      <th>RestBP</th>\n",
       "      <th>Chol</th>\n",
       "      <th>AHD</th>\n",
       "      <th>ChestPain_asymptomatic</th>\n",
       "      <th>ChestPain_nonanginal</th>\n",
       "      <th>ChestPain_nontypical</th>\n",
       "      <th>ChestPain_typical</th>\n",
       "    </tr>\n",
       "  </thead>\n",
       "  <tbody>\n",
       "    <tr>\n",
       "      <th>0</th>\n",
       "      <td>63</td>\n",
       "      <td>1</td>\n",
       "      <td>145</td>\n",
       "      <td>233</td>\n",
       "      <td>0</td>\n",
       "      <td>False</td>\n",
       "      <td>False</td>\n",
       "      <td>False</td>\n",
       "      <td>True</td>\n",
       "    </tr>\n",
       "    <tr>\n",
       "      <th>1</th>\n",
       "      <td>67</td>\n",
       "      <td>1</td>\n",
       "      <td>160</td>\n",
       "      <td>286</td>\n",
       "      <td>1</td>\n",
       "      <td>True</td>\n",
       "      <td>False</td>\n",
       "      <td>False</td>\n",
       "      <td>False</td>\n",
       "    </tr>\n",
       "    <tr>\n",
       "      <th>2</th>\n",
       "      <td>67</td>\n",
       "      <td>1</td>\n",
       "      <td>120</td>\n",
       "      <td>229</td>\n",
       "      <td>1</td>\n",
       "      <td>True</td>\n",
       "      <td>False</td>\n",
       "      <td>False</td>\n",
       "      <td>False</td>\n",
       "    </tr>\n",
       "    <tr>\n",
       "      <th>3</th>\n",
       "      <td>37</td>\n",
       "      <td>1</td>\n",
       "      <td>130</td>\n",
       "      <td>250</td>\n",
       "      <td>0</td>\n",
       "      <td>False</td>\n",
       "      <td>True</td>\n",
       "      <td>False</td>\n",
       "      <td>False</td>\n",
       "    </tr>\n",
       "    <tr>\n",
       "      <th>4</th>\n",
       "      <td>41</td>\n",
       "      <td>0</td>\n",
       "      <td>130</td>\n",
       "      <td>204</td>\n",
       "      <td>0</td>\n",
       "      <td>False</td>\n",
       "      <td>False</td>\n",
       "      <td>True</td>\n",
       "      <td>False</td>\n",
       "    </tr>\n",
       "  </tbody>\n",
       "</table>\n",
       "</div>"
      ],
      "text/plain": [
       "   Age  Sex  RestBP  Chol  AHD  ChestPain_asymptomatic  ChestPain_nonanginal  \\\n",
       "0   63    1     145   233    0                   False                 False   \n",
       "1   67    1     160   286    1                    True                 False   \n",
       "2   67    1     120   229    1                    True                 False   \n",
       "3   37    1     130   250    0                   False                  True   \n",
       "4   41    0     130   204    0                   False                 False   \n",
       "\n",
       "   ChestPain_nontypical  ChestPain_typical  \n",
       "0                 False               True  \n",
       "1                 False              False  \n",
       "2                 False              False  \n",
       "3                 False              False  \n",
       "4                  True              False  "
      ]
     },
     "execution_count": 1,
     "metadata": {},
     "output_type": "execute_result"
    }
   ],
   "source": [
    "import pandas as pd\n",
    "\n",
    "\n",
    "predictors = ['Age', 'Sex', 'ChestPain', 'RestBP', 'Chol']\n",
    "target = 'AHD'\n",
    "\n",
    "df = pd.read_csv('https://www.statlearning.com/s/Heart.csv')\n",
    "df = df[predictors + [target]]\n",
    "df = df.dropna()\n",
    "df = pd.get_dummies(df, columns=['ChestPain'])\n",
    "df['AHD'] = df['AHD'].map({'No': 0, 'Yes': 1})\n",
    "df.head()"
   ]
  },
  {
   "cell_type": "markdown",
   "id": "63fb8585-b900-4c09-8298-587c5aadf4d1",
   "metadata": {},
   "source": [
    "### 1. Fit a model using a standard train/validation split through multiple steps.\n",
    "Through the steps you will practice chaining functions, and you will also create the infrastructure necessary for the remaining tasks.\n",
    "\n",
    "1. Write a function \"stratified_split\" that takes three arguments: A dataframe, a number of folds, and a list of variables to stratify by. The function should return a list of dataframes, one for each fold, where the dataframes are stratified by the variables in the list. Test that the function works by splitting the dataset into two folds based on 'AHD', 'Age' and 'RestBP' and print the size of each fold, the counts of 0s and 1s in AHD, and the mean of each of 'Age' and 'RestBP' (all these should be printed individually per fold). Ensure that the function does not modify the original dataframe."
   ]
  },
  {
   "cell_type": "code",
   "execution_count": 2,
   "id": "8d94da0c-16e8-4b87-a725-527ed58e9703",
   "metadata": {},
   "outputs": [
    {
     "name": "stdout",
     "output_type": "stream",
     "text": [
      "Fold 0 (n=152)\n",
      "AHD: Counter({0: 82, 1: 70})\n",
      "Age: 54.36\n",
      "RestBP: 132.20\n",
      "Fold 1 (n=151)\n",
      "AHD: Counter({0: 82, 1: 69})\n",
      "Age: 54.52\n",
      "RestBP: 131.18\n"
     ]
    }
   ],
   "source": [
    "import numpy as np\n",
    "\n",
    "from collections import Counter\n",
    "from typing import List\n",
    "\n",
    "\n",
    "def stratified_split(df: pd.DataFrame, num_folds: int, \n",
    "                     variables: List[str]) -> List[pd.DataFrame]:\n",
    "    \"\"\"Splits a given dataframe into a given number of folds while \n",
    "    stratifying on given variables.\n",
    "\n",
    "    Parameters:\n",
    "    ----------\n",
    "    df : pd.DataFrame\n",
    "        The dataframe that should be split\n",
    "    num_folds : int\n",
    "        The number of folds the dataset should be split into\n",
    "    variables : List[str]\n",
    "        A list of variables to stratify by\n",
    "\n",
    "    Returns:\n",
    "    -------\n",
    "    List[pd.DataFrame]\n",
    "        A list of non-overlapping folds from the original dataset\n",
    "\n",
    "    Raises:\n",
    "    ------\n",
    "    KeyError\n",
    "        If any of the stratification variables are not columns in \n",
    "        the original dataset\n",
    "    \"\"\"\n",
    "    df = df.copy()\n",
    "    df = df.sort_values(variables)\n",
    "    df['fold'] = np.arange(len(df)) % num_folds\n",
    "\n",
    "    return [df[df['fold'] == fold].drop(columns=['fold']) \\\n",
    "            for fold in range(num_folds)]\n",
    "\n",
    "folds = stratified_split(df, 2, ['AHD', 'Age', 'RestBP'])\n",
    "\n",
    "for i, fold in enumerate(folds):\n",
    "    print(f'Fold {i} (n={len(fold)})')\n",
    "    print(f'AHD: {Counter(fold[\"AHD\"])}')\n",
    "    print(f'Age: {np.mean(fold[\"Age\"]):.2f}')\n",
    "    print(f'RestBP: {np.mean(fold[\"RestBP\"]):.2f}')"
   ]
  },
  {
   "cell_type": "markdown",
   "id": "2cc1aa7f-75d4-44b4-8a6c-cd74a2c1cdf0",
   "metadata": {},
   "source": [
    "2. Write a function 'fit_and_predict' that takes 4 arguments: A training set, a validation set, a list of predictors, and a target variable. The function should fit a logistic regression model to the training set using the predictors and target variable, and return the predictions of the model on the validation set."
   ]
  },
  {
   "cell_type": "code",
   "execution_count": 3,
   "id": "79d6f45e-0509-44f7-9ed5-29e2ddf83aa9",
   "metadata": {},
   "outputs": [
    {
     "name": "stderr",
     "output_type": "stream",
     "text": [
      "/Users/esten/miniconda3/envs/ml/lib/python3.12/site-packages/sklearn/linear_model/_logistic.py:469: ConvergenceWarning: lbfgs failed to converge (status=1):\n",
      "STOP: TOTAL NO. of ITERATIONS REACHED LIMIT.\n",
      "\n",
      "Increase the number of iterations (max_iter) or scale the data as shown in:\n",
      "    https://scikit-learn.org/stable/modules/preprocessing.html\n",
      "Please also refer to the documentation for alternative solver options:\n",
      "    https://scikit-learn.org/stable/modules/linear_model.html#logistic-regression\n",
      "  n_iter_i = _check_optimize_result(\n"
     ]
    },
    {
     "data": {
      "text/plain": [
       "array([0.45095566, 0.16076033, 0.06375348, 0.22494394, 0.06908415,\n",
       "       0.51064285, 0.18406991, 0.06692634, 0.0496547 , 0.23196937,\n",
       "       0.33114035, 0.17073074, 0.25492414, 0.50759808, 0.63681864,\n",
       "       0.20680979, 0.09940288, 0.19536815, 0.25069693, 0.21283495,\n",
       "       0.70464829, 0.67968945, 0.06905448, 0.2352198 , 0.38794901,\n",
       "       0.72557673, 0.2640675 , 0.27261373, 0.23341443, 0.40478037,\n",
       "       0.4220961 , 0.08283804, 0.31131807, 0.33961668, 0.62189409,\n",
       "       0.10438391, 0.73702733, 0.64630262, 0.28569464, 0.12334552,\n",
       "       0.58780986, 0.12275632, 0.4516331 , 0.46998356, 0.25366013,\n",
       "       0.12732769, 0.32005531, 0.10668871, 0.34379322, 0.28610207,\n",
       "       0.1009056 , 0.68288448, 0.31577299, 0.80657638, 0.47336213,\n",
       "       0.8118554 , 0.43464129, 0.37635592, 0.3355453 , 0.39609768,\n",
       "       0.81019788, 0.34658857, 0.67842862, 0.17274286, 0.41153555,\n",
       "       0.38367723, 0.47747438, 0.15493128, 0.74650112, 0.5520207 ,\n",
       "       0.74434391, 0.86390874, 0.17656547, 0.8319983 , 0.46233228,\n",
       "       0.62735268, 0.18694622, 0.21684292, 0.7811902 , 0.21748894,\n",
       "       0.17091512, 0.29254988, 0.56367196, 0.64110416, 0.65261398,\n",
       "       0.62190573, 0.30506621, 0.7011976 , 0.71566354, 0.65682413,\n",
       "       0.66564538, 0.26792523, 0.23860929, 0.71158747, 0.31409816,\n",
       "       0.75592567, 0.40609188, 0.71986228, 0.76565286, 0.76923567,\n",
       "       0.77842732, 0.78267949, 0.75005686, 0.27258203, 0.72929536,\n",
       "       0.76013053, 0.78192354, 0.7684061 , 0.40187924, 0.75279455,\n",
       "       0.37421987, 0.11238075, 0.78064368, 0.32220463, 0.80076581,\n",
       "       0.76855003, 0.77680858, 0.79325394, 0.09851867, 0.7905828 ,\n",
       "       0.8066932 , 0.70727734, 0.67517217, 0.7774283 , 0.53244802,\n",
       "       0.80776937, 0.80992001, 0.79576256, 0.5357741 , 0.81361216,\n",
       "       0.71130139, 0.83295354, 0.83473693, 0.34328151, 0.5358257 ,\n",
       "       0.56612889, 0.55824871, 0.82948493, 0.85113284, 0.83771618,\n",
       "       0.39103512, 0.84253679, 0.72524683, 0.85905868, 0.62142491,\n",
       "       0.86009131, 0.85315742, 0.8455059 , 0.47436235, 0.85031611,\n",
       "       0.49756446])"
      ]
     },
     "execution_count": 3,
     "metadata": {},
     "output_type": "execute_result"
    }
   ],
   "source": [
    "from sklearn.linear_model import LogisticRegression\n",
    "\n",
    "\n",
    "def fit_and_predict(train: pd.DataFrame, validation: pd.DataFrame, \n",
    "                    predictors: List[str], target: str) -> np.ndarray:\n",
    "    model = LogisticRegression()\n",
    "    model.fit(train[predictors], train[target])\n",
    "\n",
    "    return model.predict_proba(validation[predictors])[:,1]\n",
    "\n",
    "predictors = [col for col in df.columns if col != target]\n",
    "\n",
    "fit_and_predict(folds[0], folds[1], predictors, target)"
   ]
  },
  {
   "cell_type": "markdown",
   "id": "d1745d6e-68fc-4bf4-a394-52ce67f05c5d",
   "metadata": {},
   "source": [
    "3. Write a function 'fit_and_predict_standardized' that takes 5 arguments: A training set, a validation set, a list of predictors, a target variable, and a list of variables to standardize. Using a loop (or a scaler), the function should z-score standardize the given variables in both the training set and the validation set based on the mean and standard deviation in the training set. Then, the function should call the 'fit_and_predict' function and return its result. Ensure that the function does not modify the original dataframes. Test the function using the train and validation set from above (e.g. the two folds from the split), while standardizing the 'Age', 'RestBP' and 'Chol' variables (as mentioned above, the target should be AHD, and you should also include the remaining predictors: 'Sex' and the ChestPain-variables)"
   ]
  },
  {
   "cell_type": "code",
   "execution_count": 4,
   "id": "5bf02185-b4c3-4aed-9706-6e6cd27fcf5d",
   "metadata": {},
   "outputs": [
    {
     "data": {
      "text/plain": [
       "array([0.24580942, 0.10301595, 0.04318178, 0.19265105, 0.05521626,\n",
       "       0.35005167, 0.12335629, 0.04871613, 0.03574997, 0.20508148,\n",
       "       0.26053605, 0.13650888, 0.21607723, 0.38691392, 0.63428011,\n",
       "       0.21666342, 0.05742623, 0.15114677, 0.21690386, 0.16463146,\n",
       "       0.64549472, 0.66232289, 0.04653685, 0.147312  , 0.37418151,\n",
       "       0.68481353, 0.27261254, 0.25993081, 0.1947186 , 0.3937794 ,\n",
       "       0.36757399, 0.05514858, 0.24402256, 0.27384063, 0.45940217,\n",
       "       0.0929065 , 0.76984209, 0.46038522, 0.23011678, 0.10416688,\n",
       "       0.52227398, 0.10213225, 0.44635117, 0.46600833, 0.21257989,\n",
       "       0.09340648, 0.3266818 , 0.10975396, 0.37868051, 0.25900628,\n",
       "       0.07960065, 0.51744639, 0.27241878, 0.78507658, 0.49181328,\n",
       "       0.82553098, 0.42673238, 0.33914456, 0.28546738, 0.41136269,\n",
       "       0.83246662, 0.32374632, 0.66724015, 0.13552456, 0.46893256,\n",
       "       0.33775133, 0.57526899, 0.12385073, 0.60020893, 0.58881848,\n",
       "       0.71326235, 0.86031367, 0.2106519 , 0.86117278, 0.35543673,\n",
       "       0.58541456, 0.22401402, 0.19203109, 0.74861786, 0.20078142,\n",
       "       0.19821053, 0.30300452, 0.55570007, 0.59704276, 0.67583962,\n",
       "       0.66182467, 0.31812618, 0.64586669, 0.66740132, 0.70793596,\n",
       "       0.71527688, 0.22589195, 0.17023055, 0.72382156, 0.26855111,\n",
       "       0.77039921, 0.41636278, 0.76740081, 0.75977057, 0.76493598,\n",
       "       0.7918355 , 0.75639476, 0.76950355, 0.35788333, 0.78907236,\n",
       "       0.82941671, 0.79443489, 0.79928434, 0.48137565, 0.77656926,\n",
       "       0.37268089, 0.08485971, 0.83316993, 0.3255086 , 0.7775858 ,\n",
       "       0.79243957, 0.80845985, 0.81469172, 0.09077241, 0.84077842,\n",
       "       0.80035074, 0.58554259, 0.63212672, 0.86612146, 0.6191749 ,\n",
       "       0.82674082, 0.83301271, 0.84256496, 0.58222138, 0.82820097,\n",
       "       0.6086224 , 0.85357099, 0.86205804, 0.31679666, 0.58016557,\n",
       "       0.60925457, 0.5326611 , 0.85413283, 0.86731161, 0.85052882,\n",
       "       0.47924201, 0.84636994, 0.66193946, 0.85696873, 0.71150428,\n",
       "       0.87053439, 0.87424117, 0.90248383, 0.621122  , 0.89254122,\n",
       "       0.60658052])"
      ]
     },
     "execution_count": 4,
     "metadata": {},
     "output_type": "execute_result"
    }
   ],
   "source": [
    "from sklearn.preprocessing import StandardScaler\n",
    "\n",
    "\n",
    "def fit_and_predict_standardized(train: pd.DataFrame, validation: pd.DataFrame,\n",
    "                                 predictors: List[str], target: str,\n",
    "                                 variables_to_standardize: List[str]) -> np.ndarray:\n",
    "    train = train.copy()\n",
    "    validation = validation.copy()\n",
    "    \n",
    "    scaler = StandardScaler()\n",
    "    train[variables_to_standardize] = scaler.fit_transform(\n",
    "        train[variables_to_standardize]\n",
    "    )\n",
    "    validation[variables_to_standardize] = scaler.transform(\n",
    "        validation[variables_to_standardize]\n",
    "    )\n",
    "\n",
    "    return fit_and_predict(train, validation, predictors, target)\n",
    "\n",
    "fit_and_predict_standardized(folds[0], folds[1], predictors, target, \n",
    "                             ['Age', 'RestBP', 'Chol'])"
   ]
  },
  {
   "cell_type": "markdown",
   "id": "1219322b-7341-48ee-9c9c-a42c01a74358",
   "metadata": {},
   "source": [
    "4. Write a function 'fit_and_compute_auc' that takes 5 arguments: A training set, a validation set, a list of predictors, a target variable, and a list of variables to standardize. The function should call the 'fit_and_predict_standardized' function to retrieve out-of-sample predictions for the validation set. Based on these and the ground truth labels in the validation set, it should compute and return the AUC. Test the function using the train and test set from above, while standardizing the 'Age', 'RestBP' and 'Chol' variables (and including the remaining predictors). Print the AUC."
   ]
  },
  {
   "cell_type": "code",
   "execution_count": 5,
   "id": "5fd5e951-e2bc-4c63-98cf-f04f5b030659",
   "metadata": {},
   "outputs": [
    {
     "name": "stdout",
     "output_type": "stream",
     "text": [
      "Train/validation split AUC: 0.84\n"
     ]
    }
   ],
   "source": [
    "from sklearn.metrics import roc_auc_score\n",
    "\n",
    "\n",
    "def fit_and_compute_auc(train: pd.DataFrame, validation: pd.DataFrame,\n",
    "                                 predictors: List[str], target: str,\n",
    "                                 variables_to_standardize: List[str]) -> float:\n",
    "    predictions = fit_and_predict_standardized(train, validation, predictors,\n",
    "                                               target, variables_to_standardize)\n",
    "\n",
    "    return roc_auc_score(validation[target], predictions)\n",
    "\n",
    "split_auc = fit_and_compute_auc(folds[0], folds[1], predictors, target, \n",
    "                                ['Age', 'RestBP', 'Chol'])\n",
    "print(f'Train/validation split AUC: {split_auc:.2f}')"
   ]
  },
  {
   "cell_type": "markdown",
   "id": "b30ccc72-bdf0-4805-89d4-ed77cbc8fec2",
   "metadata": {},
   "source": [
    "### 2. Perform a cross-validation.\n",
    "Use the 'stratified_split' function to split the dataset into 10 folds, stratified on variables you find reasonable. For each fold, use the 'fit_and_compute_auc' function to compute the AUC of the model on the held-out validation set. Print the mean and standard deviation of the AUCs across the 10 folds."
   ]
  },
  {
   "cell_type": "code",
   "execution_count": 6,
   "id": "7ee22244-c16d-409b-a952-b5f1d01a9a59",
   "metadata": {},
   "outputs": [
    {
     "name": "stdout",
     "output_type": "stream",
     "text": [
      "Cross-validation AUC: 0.85+/-0.09\n"
     ]
    }
   ],
   "source": [
    "folds = stratified_split(df, 10, ['AHD', 'Age'])\n",
    "cv_aucs = []\n",
    "\n",
    "for i in range(len(folds)):\n",
    "    train = pd.concat([folds[j] for j in range(len(folds)) \\\n",
    "                      if j != i])\n",
    "    validation = folds[i]\n",
    "    auc = fit_and_compute_auc(train, validation, predictors, target,\n",
    "                              ['Age', 'RestBP', 'Chol'])\n",
    "    cv_aucs.append(auc)\n",
    "\n",
    "print(f'Cross-validation AUC: {np.mean(cv_aucs):.2f}+/-{np.std(cv_aucs):.2f}')"
   ]
  },
  {
   "cell_type": "markdown",
   "id": "91aa1cbe-960a-4695-b0cb-7c0148d28279",
   "metadata": {},
   "source": [
    "### 3. Use the bootstrap to achieve a distribution of out-of-bag AUCs.\n",
    "For 100 iterations, create a bootstrap sample by sampling with replacement from the full dataset until you have a training set equal in size to 80% of the original data. Use the observations not included in the bootstrap sample as the validation set for that iteration.. Fit models and calculate AUCs for each iteration. Print the mean and standard deviation of the AUCs."
   ]
  },
  {
   "cell_type": "code",
   "execution_count": 7,
   "id": "27414f5e-6386-4368-952f-e0c9fb6bbb07",
   "metadata": {},
   "outputs": [
    {
     "name": "stderr",
     "output_type": "stream",
     "text": [
      "100%|█████████████████████████████████████████████████████████████████████████████████████████| 100/100 [00:00<00:00, 295.07it/s]"
     ]
    },
    {
     "name": "stdout",
     "output_type": "stream",
     "text": [
      "Bootstrap AUC: 0.84+/-0.03\n"
     ]
    },
    {
     "name": "stderr",
     "output_type": "stream",
     "text": [
      "\n"
     ]
    }
   ],
   "source": [
    "from tqdm import tqdm\n",
    "\n",
    "\n",
    "bootstrap_aucs = []\n",
    "\n",
    "for iterations in tqdm(range(100)):\n",
    "    train = df.sample(frac=0.8, replace=True)\n",
    "    validation = df.loc[~df.index.isin(train.index)]\n",
    "\n",
    "    auc = fit_and_compute_auc(train, validation, predictors, target,\n",
    "                              ['Age', 'RestBP', 'Chol'])\n",
    "    bootstrap_aucs.append(auc)\n",
    "\n",
    "print(f'Bootstrap AUC: {np.mean(bootstrap_aucs):.2f}+/-'\n",
    "      f'{np.std(bootstrap_aucs):.2f}')"
   ]
  },
  {
   "cell_type": "markdown",
   "id": "d86b2904-7a0f-4aa7-b946-80021e3743b3",
   "metadata": {},
   "source": [
    "### 4. Theory\n",
    "1. List some benefits of wrapping code in functions rather than copying and pasting it multiple times."
   ]
  },
  {
   "cell_type": "markdown",
   "id": "5b9d0894-9f6a-485d-bc99-5701ece00c44",
   "metadata": {},
   "source": [
    "- _Code can be reused in multiple different scenarios, meaning you have to write less code_\n",
    "- _If you discover a bug in the code, that bug only has to be fixed in one place_\n",
    "- _You hide complex implementation details behind a more abstract interface, making it easier to separate concerns_"
   ]
  },
  {
   "cell_type": "markdown",
   "id": "a8cabf38-45e9-4768-bf22-5445d1df4916",
   "metadata": {},
   "source": [
    "2.  Explain three classification metrics and their benefits and drawbacks."
   ]
  },
  {
   "cell_type": "markdown",
   "id": "0efb8b3b-3808-4295-9fe0-9299b7d51772",
   "metadata": {},
   "source": [
    "- _Logloss: Has nice mathematical properties that allows for using it as a loss function when fitting models. Hard to interpret_\n",
    "- _Accuracy: Very intuitive to understand (the proportion of correct predictions). Does not take into account the cost of different misclassifications, __does not handle imbalanced classes__._\n",
    "- _Area under the receiver operating characteristic curve (AUC/AUROC): Does not rely on setting a classification threshold, handles class imbalance. Hard to interpret literally (e.g. an AUC of 0.95 is generally good, but what does it mean more concretely?), can't be used for optimizing models_"
   ]
  },
  {
   "cell_type": "markdown",
   "id": "6fa30cbf-ade3-409b-b523-d9d53d17be45",
   "metadata": {},
   "source": [
    "3. Write a couple of sentences comparing the three methods (train/validation, cross-validation, bootstrap) above as approaches to quantify model performance. Which one yielded the best results? Which one would you expect to yield the best results? Can you mention some theoretical benefits and drawbacks with each? Even if you didn't do the optional bootstrap exercise you should reflect on this as an approach."
   ]
  },
  {
   "cell_type": "code",
   "execution_count": 8,
   "id": "b0690473-bf22-4b95-b5d9-9ff417600a79",
   "metadata": {},
   "outputs": [
    {
     "name": "stdout",
     "output_type": "stream",
     "text": [
      "Train/validation-split AUC: 0.84\n",
      "Cross-validation AUC: 0.85+/-0.09\n",
      "Bootstrap AUC: 0.84+/-0.03\n"
     ]
    }
   ],
   "source": [
    "print(f'Train/validation-split AUC: {split_auc:.2f}')\n",
    "print(f'Cross-validation AUC: {np.mean(cv_aucs):.2f}+/-{np.std(cv_aucs):.2f}')\n",
    "print(f'Bootstrap AUC: {np.mean(bootstrap_aucs):.2f}+/-{np.std(bootstrap_aucs):.2f}')"
   ]
  },
  {
   "cell_type": "markdown",
   "id": "c1dcbcc7-4bb2-4a3e-9041-2168f5861ad7",
   "metadata": {},
   "source": [
    "_In our case, the three methods yield results that are statistically equivalent. This is what we would expect, but given the fact that the single train/validation-split has a lot of variance depending on the exact split, this doesn't always happen. As such, one of the two latter is preferable_"
   ]
  },
  {
   "cell_type": "markdown",
   "id": "80d9a690-368f-4c5f-879e-f7778c9db7de",
   "metadata": {},
   "source": [
    "4. Why do we stratify the dataset before splitting?"
   ]
  },
  {
   "cell_type": "markdown",
   "id": "9b19b579-54b2-4e74-83c9-c48845e911cd",
   "metadata": {},
   "source": [
    "_To ensure the different folds of the dataset are similar with respect to certain key variables. If we don't do this, we could arrive at models that are very good in whatever portion they are trained on but very poor in everything else, simply due to the training population not being representative for the rest of the data._"
   ]
  },
  {
   "cell_type": "markdown",
   "id": "03862d20-8015-476b-aabc-eb25a36a6ed0",
   "metadata": {},
   "source": [
    "5. What other use cases can you think of for the bootstrap method?"
   ]
  },
  {
   "cell_type": "markdown",
   "id": "080fab35-4001-47c5-8ba3-510a505bf6c2",
   "metadata": {},
   "source": [
    "_In addition to assessing model performance, the bootstrap can also be used to get an idea of the spread of estimated parameter values (e.g. how important a variable is for a prediction)._"
   ]
  },
  {
   "cell_type": "code",
   "execution_count": null,
   "id": "c7a02331-5125-4964-b135-746e9afb148e",
   "metadata": {},
   "outputs": [],
   "source": []
  }
 ],
 "metadata": {
  "kernelspec": {
   "display_name": "Python 3 (ipykernel)",
   "language": "python",
   "name": "python3"
  },
  "language_info": {
   "codemirror_mode": {
    "name": "ipython",
    "version": 3
   },
   "file_extension": ".py",
   "mimetype": "text/x-python",
   "name": "python",
   "nbconvert_exporter": "python",
   "pygments_lexer": "ipython3",
   "version": "3.12.4"
  }
 },
 "nbformat": 4,
 "nbformat_minor": 5
}
