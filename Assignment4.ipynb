{
 "cells": [
  {
   "cell_type": "markdown",
   "metadata": {},
   "source": [
    "0. Prepare the dataset for the subsequent modelling.\n",
    "    1. Download the heart disease dataset from https://www.statlearning.com/s/Heart.csv\n",
    "    2. Load the dataset and drop all variables except the predictors Age, Sex, ChestPain, RestBP, Chol, and the target variable AHD. Drop all rows containing a NaN value.\n",
    "    3. Onehot encode the variable ChestPain. This means that where you before had a single column with one of four values ['typical', 'asymptomatic', 'nonanginal', 'nontypical'], you will now have four binary columns (their names don't matter), akin to 'ChestPain_typical' 'ChestPain_asymptomatic', 'ChestPain_nonanginal', 'ChestPain_nontypical'. A row that before had ChestPain='typical' will now have ChestPain_typical=1 and the other three columns set to 0, ChestPain='asymptomatic' will have ChestPain_asymptomatic=1 and the other three set to 0, etc.\n",
    "    4. Binary encode the target variable AHD such that 'No'=0 and 'Yes'=1."
   ]
  },
  {
   "cell_type": "code",
   "execution_count": 7,
   "metadata": {},
   "outputs": [
    {
     "name": "stderr",
     "output_type": "stream",
     "text": [
      "/var/folders/sx/vwqvh81108b_mls63cm7cgcw0000gp/T/ipykernel_87181/515935684.py:15: FutureWarning: Setting an item of incompatible dtype is deprecated and will raise in a future error of pandas. Value '0      0\n",
      "1      1\n",
      "2      1\n",
      "3      0\n",
      "4      0\n",
      "      ..\n",
      "298    0\n",
      "299    1\n",
      "300    1\n",
      "301    0\n",
      "302    0\n",
      "Name: ChestPain_asymptomatic, Length: 303, dtype: int64' has dtype incompatible with bool, please explicitly cast to a compatible dtype first.\n",
      "  Heart.iloc[:, -4:] = Heart.iloc[:, -4:].astype(int)\n",
      "/var/folders/sx/vwqvh81108b_mls63cm7cgcw0000gp/T/ipykernel_87181/515935684.py:15: FutureWarning: Setting an item of incompatible dtype is deprecated and will raise in a future error of pandas. Value '0      0\n",
      "1      0\n",
      "2      0\n",
      "3      1\n",
      "4      0\n",
      "      ..\n",
      "298    0\n",
      "299    0\n",
      "300    0\n",
      "301    0\n",
      "302    1\n",
      "Name: ChestPain_nonanginal, Length: 303, dtype: int64' has dtype incompatible with bool, please explicitly cast to a compatible dtype first.\n",
      "  Heart.iloc[:, -4:] = Heart.iloc[:, -4:].astype(int)\n",
      "/var/folders/sx/vwqvh81108b_mls63cm7cgcw0000gp/T/ipykernel_87181/515935684.py:15: FutureWarning: Setting an item of incompatible dtype is deprecated and will raise in a future error of pandas. Value '0      0\n",
      "1      0\n",
      "2      0\n",
      "3      0\n",
      "4      1\n",
      "      ..\n",
      "298    0\n",
      "299    0\n",
      "300    0\n",
      "301    1\n",
      "302    0\n",
      "Name: ChestPain_nontypical, Length: 303, dtype: int64' has dtype incompatible with bool, please explicitly cast to a compatible dtype first.\n",
      "  Heart.iloc[:, -4:] = Heart.iloc[:, -4:].astype(int)\n",
      "/var/folders/sx/vwqvh81108b_mls63cm7cgcw0000gp/T/ipykernel_87181/515935684.py:15: FutureWarning: Setting an item of incompatible dtype is deprecated and will raise in a future error of pandas. Value '0      1\n",
      "1      0\n",
      "2      0\n",
      "3      0\n",
      "4      0\n",
      "      ..\n",
      "298    1\n",
      "299    0\n",
      "300    0\n",
      "301    0\n",
      "302    0\n",
      "Name: ChestPain_typical, Length: 303, dtype: int64' has dtype incompatible with bool, please explicitly cast to a compatible dtype first.\n",
      "  Heart.iloc[:, -4:] = Heart.iloc[:, -4:].astype(int)\n"
     ]
    },
    {
     "data": {
      "text/html": [
       "<div>\n",
       "<style scoped>\n",
       "    .dataframe tbody tr th:only-of-type {\n",
       "        vertical-align: middle;\n",
       "    }\n",
       "\n",
       "    .dataframe tbody tr th {\n",
       "        vertical-align: top;\n",
       "    }\n",
       "\n",
       "    .dataframe thead th {\n",
       "        text-align: right;\n",
       "    }\n",
       "</style>\n",
       "<table border=\"1\" class=\"dataframe\">\n",
       "  <thead>\n",
       "    <tr style=\"text-align: right;\">\n",
       "      <th></th>\n",
       "      <th>Age</th>\n",
       "      <th>Sex</th>\n",
       "      <th>RestBP</th>\n",
       "      <th>Chol</th>\n",
       "      <th>AHD</th>\n",
       "      <th>ChestPain_asymptomatic</th>\n",
       "      <th>ChestPain_nonanginal</th>\n",
       "      <th>ChestPain_nontypical</th>\n",
       "      <th>ChestPain_typical</th>\n",
       "    </tr>\n",
       "  </thead>\n",
       "  <tbody>\n",
       "    <tr>\n",
       "      <th>0</th>\n",
       "      <td>63</td>\n",
       "      <td>1</td>\n",
       "      <td>145</td>\n",
       "      <td>233</td>\n",
       "      <td>0</td>\n",
       "      <td>0</td>\n",
       "      <td>0</td>\n",
       "      <td>0</td>\n",
       "      <td>1</td>\n",
       "    </tr>\n",
       "    <tr>\n",
       "      <th>1</th>\n",
       "      <td>67</td>\n",
       "      <td>1</td>\n",
       "      <td>160</td>\n",
       "      <td>286</td>\n",
       "      <td>1</td>\n",
       "      <td>1</td>\n",
       "      <td>0</td>\n",
       "      <td>0</td>\n",
       "      <td>0</td>\n",
       "    </tr>\n",
       "    <tr>\n",
       "      <th>2</th>\n",
       "      <td>67</td>\n",
       "      <td>1</td>\n",
       "      <td>120</td>\n",
       "      <td>229</td>\n",
       "      <td>1</td>\n",
       "      <td>1</td>\n",
       "      <td>0</td>\n",
       "      <td>0</td>\n",
       "      <td>0</td>\n",
       "    </tr>\n",
       "    <tr>\n",
       "      <th>3</th>\n",
       "      <td>37</td>\n",
       "      <td>1</td>\n",
       "      <td>130</td>\n",
       "      <td>250</td>\n",
       "      <td>0</td>\n",
       "      <td>0</td>\n",
       "      <td>1</td>\n",
       "      <td>0</td>\n",
       "      <td>0</td>\n",
       "    </tr>\n",
       "    <tr>\n",
       "      <th>4</th>\n",
       "      <td>41</td>\n",
       "      <td>0</td>\n",
       "      <td>130</td>\n",
       "      <td>204</td>\n",
       "      <td>0</td>\n",
       "      <td>0</td>\n",
       "      <td>0</td>\n",
       "      <td>1</td>\n",
       "      <td>0</td>\n",
       "    </tr>\n",
       "  </tbody>\n",
       "</table>\n",
       "</div>"
      ],
      "text/plain": [
       "   Age  Sex  RestBP  Chol  AHD  ChestPain_asymptomatic  ChestPain_nonanginal  \\\n",
       "0   63    1     145   233    0                       0                     0   \n",
       "1   67    1     160   286    1                       1                     0   \n",
       "2   67    1     120   229    1                       1                     0   \n",
       "3   37    1     130   250    0                       0                     1   \n",
       "4   41    0     130   204    0                       0                     0   \n",
       "\n",
       "   ChestPain_nontypical  ChestPain_typical  \n",
       "0                     0                  1  \n",
       "1                     0                  0  \n",
       "2                     0                  0  \n",
       "3                     0                  0  \n",
       "4                     1                  0  "
      ]
     },
     "execution_count": 7,
     "metadata": {},
     "output_type": "execute_result"
    }
   ],
   "source": [
    "import pandas as pd\n",
    "\n",
    "# 1: Load the dataset\n",
    "url = \"https://www.statlearning.com/s/Heart.csv\"\n",
    "Heart = pd.read_csv(url)\n",
    "\n",
    "# 2: Keep relevant columns\n",
    "Heart = Heart[['Age', 'Sex', 'ChestPain', 'RestBP', 'Chol', 'AHD']]\n",
    "\n",
    "# 3: Drop rows with any missing values\n",
    "Heart = Heart.dropna()\n",
    "\n",
    "# 4: One-hot encode 'ChestPain'\n",
    "Heart = pd.get_dummies(Heart, columns=['ChestPain'])\n",
    "Heart.iloc[:, -4:] = Heart.iloc[:, -4:].astype(int)\n",
    "\n",
    "# 5: Binary encode 'AHD': 'No' → 0, 'Yes' → 1\n",
    "Heart['AHD'] = Heart['AHD'].map({'No': 0, 'Yes': 1})\n",
    "\n",
    "Heart.head()\n"
   ]
  },
  {
   "cell_type": "markdown",
   "metadata": {},
   "source": [
    "1. Fit a model using a standard train/validation split through multiple steps.\n",
    "Through the steps you will practice chaining functions, and you will also create the infrastructure necessary for the remaining tasks.\n",
    "1.1 Write a function \"stratified_split\" that takes three arguments: A dataframe, a number of folds, and a list of variables to stratify by. The function should return a list of dataframes, one for each fold, where the dataframes are stratified by the variables in the list. Test that the function works by splitting the dataset into two folds based on 'AHD', 'Age' and 'RestBP' and print the size of each fold, the counts of 0s and 1s in AHD, and the mean of each of 'Age' and 'RestBP' (all these should be printed individually per fold). Ensure that the function does not modify the original dataframe."
   ]
  },
  {
   "cell_type": "code",
   "execution_count": 9,
   "metadata": {},
   "outputs": [
    {
     "name": "stdout",
     "output_type": "stream",
     "text": [
      "Fold 1\n",
      "Size: 152\n",
      "AHD=0 count: 84\n",
      "AHD=1 count: 68\n",
      "Mean Age: 54.66\n",
      "Mean RestBP: 131.25\n",
      "------------------------------\n",
      "Fold 2\n",
      "Size: 151\n",
      "AHD=0 count: 80\n",
      "AHD=1 count: 71\n",
      "Mean Age: 54.22\n",
      "Mean RestBP: 132.13\n",
      "------------------------------\n"
     ]
    },
    {
     "name": "stderr",
     "output_type": "stream",
     "text": [
      "/Users/qiqi/miniforge3/envs/python-for-scicomp/lib/python3.12/site-packages/sklearn/model_selection/_split.py:776: UserWarning: The least populated class in y has only 1 members, which is less than n_splits=2.\n",
      "  warnings.warn(\n"
     ]
    }
   ],
   "source": [
    "# 1: write a function\n",
    "from sklearn.model_selection import StratifiedKFold\n",
    "import pandas as pd\n",
    "\n",
    "def stratified_split(df, n_folds, stratify_vars):\n",
    "    df_copy = df.copy()\n",
    "    \n",
    "    # Create a new column that represents the stratification group\n",
    "    df_copy['stratify_group'] = df_copy[stratify_vars].astype(str).agg('-'.join, axis=1)\n",
    "    \n",
    "    skf = StratifiedKFold(n_splits=n_folds, shuffle=True, random_state=42)\n",
    "    folds = []\n",
    "    \n",
    "    for _, test_idx in skf.split(df_copy, df_copy['stratify_group']):\n",
    "        fold_df = df_copy.iloc[test_idx].drop(columns=['stratify_group']).copy()\n",
    "        folds.append(fold_df)\n",
    "    \n",
    "    return folds\n",
    "\n",
    "# 2: test the function \n",
    "# Assume 'Heart' DataFrame is already loaded and preprocessed as per your earlier steps\n",
    "\n",
    "# Apply stratified_split on 'AHD', 'Age', and 'RestBP'\n",
    "folds = stratified_split(Heart, 2, ['AHD', 'Age', 'RestBP'])\n",
    "\n",
    "# Print fold statistics\n",
    "for i, fold in enumerate(folds):\n",
    "    print(f\"Fold {i+1}\")\n",
    "    print(f\"Size: {len(fold)}\")\n",
    "    print(f\"AHD=0 count: {(fold['AHD'] == 0).sum()}\")\n",
    "    print(f\"AHD=1 count: {(fold['AHD'] == 1).sum()}\")\n",
    "    print(f\"Mean Age: {fold['Age'].mean():.2f}\")\n",
    "    print(f\"Mean RestBP: {fold['RestBP'].mean():.2f}\")\n",
    "    print(\"-\" * 30)\n",
    "\n",
    "\n"
   ]
  },
  {
   "cell_type": "markdown",
   "metadata": {},
   "source": [
    "1.2 Write a function 'fit_and_predict' that takes 4 arguments: A training set, a validation set, a list of predictors, and a target variable. The function should fit a logistic regression model to the training set using the predictors and target variable, and return the predictions of the model on the validation set."
   ]
  },
  {
   "cell_type": "code",
   "execution_count": 12,
   "metadata": {},
   "outputs": [],
   "source": [
    "\n",
    "from sklearn.linear_model import LogisticRegression\n",
    "\n",
    "def fit_and_predict(train_df, valid_df, predictors, target):\n",
    "    # Create and fit the logistic regression model\n",
    "    model = LogisticRegression(max_iter=1000)\n",
    "    model.fit(train_df[predictors], train_df[target])\n",
    "    \n",
    "    # Predict probabilities on validation set (only the probability of class 1)\n",
    "    predictions = model.predict_proba(valid_df[predictors])[:, 1]\n",
    "    \n",
    "    return predictions"
   ]
  },
  {
   "cell_type": "markdown",
   "metadata": {},
   "source": [
    "3. Write a function 'fit_and_predict_standardized' that takes 5 arguments: A training set, a validation set, a list of predictors, a target variable, and a list of variables to standardize. Using a loop (or a scaler), the function should z-score standardize the given variables in both the training set and the validation set based on the mean and standard deviation in the training set. Then, the function should call the 'fit_and_predict' function and return its result. Ensure that the function does not modify the original dataframes. Test the function using the train and validation set from above (e.g. the two folds from the split), while standardizing the 'Age', 'RestBP' and 'Chol' variables (as mentioned above, the target should be AHD, and you should also include the remaining predictors: 'Sex' and the ChestPain-variables)"
   ]
  },
  {
   "cell_type": "code",
   "execution_count": 13,
   "metadata": {},
   "outputs": [
    {
     "name": "stdout",
     "output_type": "stream",
     "text": [
      "[0.8924791  0.87586785 0.29629782 0.57033586 0.85776799]\n"
     ]
    }
   ],
   "source": [
    "# 1: write a function \n",
    "def fit_and_predict_standardized(train_df, valid_df, predictors, target, standardize_vars):\n",
    "    # Copy data to avoid modifying the original dataframes\n",
    "    train_df = train_df.copy()\n",
    "    valid_df = valid_df.copy()\n",
    "    \n",
    "    # Standardize variables using z-score (based on training data)\n",
    "    for var in standardize_vars:\n",
    "        mean = train_df[var].mean()\n",
    "        std = train_df[var].std()\n",
    "        train_df[var] = (train_df[var] - mean) / std\n",
    "        valid_df[var] = (valid_df[var] - mean) / std  # use training stats\n",
    "    \n",
    "    # Fit and predict using logistic regression\n",
    "    return fit_and_predict(train_df, valid_df, predictors, target)\n",
    "\n",
    "# 2: test the function \n",
    "# Define columns\n",
    "standardize_vars = ['Age', 'RestBP', 'Chol']\n",
    "predictors = ['Age', 'Sex', 'RestBP', 'Chol'] + [col for col in Heart.columns if col.startswith('ChestPain_')]\n",
    "target = 'AHD'\n",
    "\n",
    "# Use folds[0] for training, folds[1] for validation\n",
    "predictions = fit_and_predict_standardized(folds[0], folds[1], predictors, target, standardize_vars)\n",
    "\n",
    "# Preview predictions\n",
    "print(predictions[:5])\n"
   ]
  },
  {
   "cell_type": "markdown",
   "metadata": {},
   "source": [
    "4. Write a function 'fit_and_compute_auc' that takes 5 arguments: A training set, a validation set, a list of predictors, a target variable, and a list of variables to standardize. The function should call the 'fit_and_predict_standardized' function to retrieve out-of-sample predictions for the validation set. Based on these and the ground truth labels in the validation set, it should compute and return the AUC. Test the function using the train and test set from above, while standardizing the 'Age', 'RestBP' and 'Chol' variables (and including the remaining predictors). Print the AUC."
   ]
  },
  {
   "cell_type": "markdown",
   "metadata": {},
   "source": [
    "2. Perform a cross-validation.\n",
    "Use the 'stratified_split' function to split the dataset into 10 folds, stratified on variables you find reasonable. For each fold, use the 'fit_and_compute_auc' function to compute the AUC of the model on the held-out validation set. Print the mean and standard deviation of the AUCs across the 10 folds."
   ]
  },
  {
   "cell_type": "markdown",
   "metadata": {},
   "source": [
    "OPTIONAL 3. Use the bootstrap to achieve a distribution of out-of-bag AUCs.\n",
    "For 100 iterations, create a bootstrap sample by sampling with replacement from the full dataset until you have a training set equal in size to 80% of the original data. Use the observations not included in the bootstrap sample as the validation set for that iteration.. Fit models and calculate AUCs for each iteration. Print the mean and standard deviation of the AUCs."
   ]
  },
  {
   "cell_type": "markdown",
   "metadata": {},
   "source": [
    "4. Theory\n",
    "    1. List some benefits of wrapping code in functions rather than copying and pasting it multiple times.\n",
    "    2. Explain three classification metrics and their benefits and drawbacks.\n",
    "    3. Write a couple of sentences comparing the three methods (train/validation, cross-validation, bootstrap) above as approaches to quantify model performance. Which one yielded the best results? Which one would you expect to yield the best results? Can you mention some theoretical benefits and drawbacks with each? Even if you didn't do the optional bootstrap exercise you should reflect on this as an approach.\n",
    "    4. Why do we stratify the dataset before splitting?\n",
    "    5. What other use cases can you think of for the bootstrap method?"
   ]
  }
 ],
 "metadata": {
  "kernelspec": {
   "display_name": "python-for-scicomp",
   "language": "python",
   "name": "python3"
  },
  "language_info": {
   "codemirror_mode": {
    "name": "ipython",
    "version": 3
   },
   "file_extension": ".py",
   "mimetype": "text/x-python",
   "name": "python",
   "nbconvert_exporter": "python",
   "pygments_lexer": "ipython3",
   "version": "3.12.7"
  }
 },
 "nbformat": 4,
 "nbformat_minor": 2
}
