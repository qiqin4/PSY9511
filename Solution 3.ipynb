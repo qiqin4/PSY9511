{
 "cells": [
  {
   "cell_type": "markdown",
   "id": "e0d75a84-60e5-4b98-954b-2907c406553b",
   "metadata": {},
   "source": [
    "### 0. Preparation\n",
    "Before any analyses we will prepare the dataset for the subsequent modelling.\n",
    "\n",
    "1. Load the Auto dataset into R or Python.\n",
    "2. Drop all variables except the (potential) predictors ['cylinders', 'displacement', 'horsepower', 'weight', 'acceleration', 'year'] and the target variable 'mpg'.\n",
    "3. Split the dataset into a training set (80%) and a validation set (20%). It is probably a good idea to set a random seed and shuffle the dataset prior to this."
   ]
  },
  {
   "cell_type": "code",
   "execution_count": 1,
   "id": "10c03a59-bdea-44b8-9880-8b8f095949d1",
   "metadata": {},
   "outputs": [
    {
     "name": "stdout",
     "output_type": "stream",
     "text": [
      "Using 317 samples for training\n",
      "Using 80 samples for validation\n"
     ]
    }
   ],
   "source": [
    "import numpy as np\n",
    "import pandas as pd\n",
    "\n",
    "np.random.seed(42)\n",
    "\n",
    "predictors = ['cylinders', 'displacement', 'horsepower', 'weight', \n",
    "              'acceleration', 'year']\n",
    "target = 'mpg'\n",
    "\n",
    "df = pd.read_csv('https://www.statlearning.com/s/Auto.csv',\n",
    "                 usecols=predictors + [target], \n",
    "                 na_values=['?'], dtype=float)\n",
    "df = df.sample(frac=1.0)\n",
    "\n",
    "train = df[:int(len(df) * 0.8)]\n",
    "validation = df[int(len(df) * 0.8):]\n",
    "\n",
    "print(f'Using {len(train)} samples for training')\n",
    "print(f'Using {len(validation)} samples for validation')"
   ]
  },
  {
   "cell_type": "markdown",
   "id": "d594ebcf-bc53-4dbd-ac26-7a5e253443bc",
   "metadata": {},
   "source": [
    "4. Replace missing values (coded as '?') in the both datasets with the mean of the given variable in the training set."
   ]
  },
  {
   "cell_type": "code",
   "execution_count": 2,
   "id": "f885df92-77f1-4e45-8bdb-e51cafb253ca",
   "metadata": {},
   "outputs": [],
   "source": [
    "train_mean = np.nanmean(train['horsepower'])\n",
    "\n",
    "train = train.fillna({'horsepower': train_mean})\n",
    "validation = validation.fillna({'horsepower': train_mean})"
   ]
  },
  {
   "cell_type": "markdown",
   "id": "ca53c512-a072-4461-b8bf-881591364548",
   "metadata": {},
   "source": [
    "5. Standardize the predictors in the training set using z-score standardization.\n",
    "6. Standardize the predictors in validation set based on the means and standard deviations from the training set."
   ]
  },
  {
   "cell_type": "code",
   "execution_count": 3,
   "id": "f69db8bd-fe3a-4717-8fe5-0efa62e78253",
   "metadata": {},
   "outputs": [],
   "source": [
    "from sklearn.preprocessing import StandardScaler\n",
    "\n",
    "scaler = StandardScaler()\n",
    "\n",
    "train.loc[:, predictors] = scaler.fit_transform(train[predictors])\n",
    "validation.loc[:, predictors] = scaler.transform(validation[predictors])"
   ]
  },
  {
   "cell_type": "markdown",
   "id": "c086865f-fd77-4796-a40a-0e11bbc140b9",
   "metadata": {},
   "source": [
    "7. Reflection: Discuss briefly why it is a good idea (or even necessary?) to standardize the variables before fitting the LASSO models in assignment 2. Why do we mean-fill and standardize the validation set based on information from the training set?"
   ]
  },
  {
   "cell_type": "markdown",
   "id": "e23cad53-6487-48d2-9b93-774ee16fc4a8",
   "metadata": {},
   "source": [
    "- _We need to standardize the variables to ensure they are all affected equally by the regularization penalty in the LASSO models._\n",
    "- _We mean-fill the validation data using information from the training set for two reasons:_\n",
    "  - _Because in \"real life\" we often wouldn't have a full validation set, only a single datapoint, and thus wouldn't be able to compute statistical moments._\n",
    "  - _Because we don't want data points that have the same properties to behave differently in the two datasets. E.g. if I have two datapoints with 100 horsepower, one in the training set and one in the validation set, and the first is standardized according to the rest of the training set and the second is standardized according to the rest of the validation set, although these two datapoints were equivalent initially they would look different after the two standardization procedures._"
   ]
  },
  {
   "cell_type": "markdown",
   "id": "5e10e357-4ec2-4a20-b703-a392923ce496",
   "metadata": {},
   "source": [
    "### 1. Manual variable selection\n",
    "In this assignment all models should be unregularized linear regression models fitted to predict mpg as a function of various subset of predictors. When we refer to the best model we mean the one achieveing the lowest mean absolute error (MAE) in the validation set, if not otherwise specified.\n",
    "\n",
    "1. Find the optimal set of predictors of size [6, 5, 4, 3, 2, 1] based on model performance using backwards stepwise selection. Print out each set."
   ]
  },
  {
   "cell_type": "code",
   "execution_count": 4,
   "id": "b31322d4-f5e0-4cb9-9b4a-3a281a6f86a6",
   "metadata": {},
   "outputs": [
    {
     "name": "stdout",
     "output_type": "stream",
     "text": [
      "['cylinders' 'displacement' 'horsepower' 'weight' 'acceleration' 'year']\n",
      "['cylinders' 'horsepower' 'weight' 'acceleration' 'year']\n",
      "['cylinders' 'weight' 'acceleration' 'year']\n",
      "['weight' 'acceleration' 'year']\n",
      "['weight' 'year']\n",
      "['weight']\n"
     ]
    }
   ],
   "source": [
    "from copy import copy\n",
    "from sklearn.dummy import DummyRegressor\n",
    "from sklearn.linear_model import LinearRegression\n",
    "from sklearn.metrics import mean_absolute_error\n",
    "from typing import List\n",
    "\n",
    "\n",
    "def fit_and_evaluate(train: pd.DataFrame, validation: pd.DataFrame,\n",
    "                     predictors: List[str], target: str):\n",
    "    model = LinearRegression()\n",
    "    model.fit(train[predictors], train[target])\n",
    "    predictions = model.predict(validation[predictors])\n",
    "\n",
    "    return mean_absolute_error(validation[target], predictions)\n",
    "\n",
    "def find_worst_predictor(train: pd.DataFrame, validation: pd.DataFrame,\n",
    "                         predictors: List[str], target: str):\n",
    "    best_mae = float('inf')\n",
    "    worst_predictor = None\n",
    "    \n",
    "    for candidate in predictors:\n",
    "        remaining_predictors = [predictor for predictor in predictors \\\n",
    "                                if predictor != candidate]\n",
    "        mae = fit_and_evaluate(train, validation, remaining_predictors, target)\n",
    "\n",
    "        if mae < best_mae:\n",
    "            best_mae = mae\n",
    "            worst_predictor = candidate\n",
    "\n",
    "    \n",
    "    return worst_predictor\n",
    "\n",
    "def backward_selection(train: pd.DataFrame, validation: pd.DataFrame,\n",
    "                       predictors: List[str], target: str):\n",
    "    \"\"\"blabla\"\"\"\n",
    "    current_predictors = copy(predictors)\n",
    "    models = []\n",
    "\n",
    "    while len(current_predictors) > 1:\n",
    "        model = LinearRegression()\n",
    "        model.fit(train[current_predictors], train[target])\n",
    "        models.append(model)\n",
    "        \n",
    "        worst_predictor = find_worst_predictor(train, validation, \n",
    "                                               current_predictors, target)\n",
    "        current_predictors = [predictor for predictor in current_predictors \\\n",
    "                              if predictor != worst_predictor]\n",
    "\n",
    "    # Adds a model with the only remaining predictor\n",
    "    model = LinearRegression()\n",
    "    model.fit(train[current_predictors], train[target])\n",
    "    models.append(model)\n",
    "\n",
    "    return models\n",
    "\n",
    "selection_models = backward_selection(train, validation, predictors, target)\n",
    "\n",
    "for model in selection_models:\n",
    "    print(model.feature_names_in_)"
   ]
  },
  {
   "cell_type": "markdown",
   "id": "2afb085a-817a-49a9-b4a0-375eb3e0a85c",
   "metadata": {},
   "source": [
    "2. Based on the models you have already trained, plot both training and validation MAE as a function of the number of predictors."
   ]
  },
  {
   "cell_type": "code",
   "execution_count": 5,
   "id": "05706466-1c5f-4ecd-a20f-9bbed21f879f",
   "metadata": {},
   "outputs": [
    {
     "data": {
      "image/png": "[encoded data removed]",
      "text/plain": [
       "<Figure size 640x480 with 1 Axes>"
      ]
     },
     "metadata": {},
     "output_type": "display_data"
    }
   ],
   "source": [
    "import matplotlib.pyplot as plt\n",
    "\n",
    "\n",
    "def calculate_mae(model: LinearRegression, dataset: pd.DataFrame, \n",
    "                  target: str) -> float:\n",
    "    predictors = model.feature_names_in_\n",
    "    predictions = model.predict(dataset[predictors])\n",
    "\n",
    "    return mean_absolute_error(dataset[target], predictions)\n",
    "\n",
    "train_maes = [calculate_mae(model, train, target) for model in selection_models]\n",
    "validation_maes = [calculate_mae(model, validation, target) \\\n",
    "                   for model in selection_models]\n",
    "\n",
    "plt.plot(np.arange(len(selection_models)), train_maes, label='Train')\n",
    "plt.plot(np.arange(len(selection_models)), validation_maes, label='Validation')\n",
    "plt.show()"
   ]
  },
  {
   "cell_type": "markdown",
   "id": "6bba7012-5101-4d51-ae04-62d5fb37d193",
   "metadata": {},
   "source": [
    "3. Plot mpg predictions against actual mpg values for the validation set using the best model."
   ]
  },
  {
   "cell_type": "code",
   "execution_count": 6,
   "id": "eb00b577-c377-49dd-8f69-fd2397d0e031",
   "metadata": {},
   "outputs": [
    {
     "name": "stdout",
     "output_type": "stream",
     "text": [
      "The best model based on the training set had 5 predictors and achieved an MAE of 2.57\n",
      "The best model based on the validation set had 3 predictors and achieved an MAE of 2.80\n"
     ]
    },
    {
     "data": {
      "image/png": "[encoded data removed]",
      "text/plain": [
       "<Figure size 640x480 with 1 Axes>"
      ]
     },
     "metadata": {},
     "output_type": "display_data"
    }
   ],
   "source": [
    "best_idx_train = np.argmin(train_maes)\n",
    "print('The best model based on the training set had '\n",
    "      f'{len(selection_models[best_idx_train].feature_names_in_)} '\n",
    "      f'predictors and achieved an MAE of {train_maes[best_idx_train]:.2f}')\n",
    "\n",
    "best_idx_validation = np.argmin(validation_maes)\n",
    "print('The best model based on the validation set had '\n",
    "      f'{len(selection_models[best_idx_validation].feature_names_in_)} '\n",
    "      f'predictors and achieved an MAE of {validation_maes[best_idx_validation]:.2f}')\n",
    "\n",
    "best_selection_model = selection_models[best_idx_validation]\n",
    "best_predictions = best_selection_model.predict(\n",
    "    validation[best_selection_model.feature_names_in_]\n",
    ")\n",
    "\n",
    "plt.scatter(validation[target], best_predictions)\n",
    "plt.show()"
   ]
  },
  {
   "cell_type": "markdown",
   "id": "77e404d4-97a0-4ce5-b56f-e1d04af17725",
   "metadata": {},
   "source": [
    "4. Reflection: What is the best model based on training MAE? What about validation MAE? If they are different, reflect briefly on why. If not, could this happen? Why/why not?"
   ]
  },
  {
   "cell_type": "markdown",
   "id": "7a8c6f7f-b417-474b-9d62-2aeb1150b581",
   "metadata": {},
   "source": [
    "_The best model based on the training set had five predictors. We would always expect the predictive performance in the training set to decrease as we add more predictors, and as such expect the model with all six to be best. However, as we are evaluating the MAE while optimising the models with the MSE, there is a theoretical chance that this is not the case, which explains what we see here. The best model based on the validation set had three predictors. As many predictors imply overfitting and few predictors imply underfitting, we expect the validation MAE to be shape as a U when plotted as a function of the number of predictors_"
   ]
  },
  {
   "cell_type": "markdown",
   "id": "b6ff038d-dfee-4759-bb66-ab031e2a8694",
   "metadata": {},
   "source": [
    "### 2. Regularization and automatic variable selection\n",
    "In this assignment you will fit regularized LASSO models to investigate how the regularization parameter affects predictive performance and degree of overfitting.\n",
    "\n",
    "1. Fit a range of LASSO models to predict mpg using all the predictors, with eleven lambdas uniformly spaced between 0 and 10 (e.g. 0, 1, 2, ..., 9, 10)\n",
    "2. Plot the train and validation MAE as a function of the value of lambda"
   ]
  },
  {
   "cell_type": "code",
   "execution_count": 7,
   "id": "ebaf4720-876c-41e9-a817-24f3b37eb997",
   "metadata": {},
   "outputs": [
    {
     "name": "stderr",
     "output_type": "stream",
     "text": [
      "/home/esten/miniconda3/envs/ml/lib/python3.12/site-packages/sklearn/base.py:1473: UserWarning: With alpha=0, this algorithm does not converge well. You are advised to use the LinearRegression estimator\n",
      "  return fit_method(estimator, *args, **kwargs)\n",
      "/home/esten/miniconda3/envs/ml/lib/python3.12/site-packages/sklearn/linear_model/_coordinate_descent.py:697: UserWarning: Coordinate descent with no regularization may lead to unexpected results and is discouraged.\n",
      "  model = cd_fast.enet_coordinate_descent(\n",
      "/home/esten/miniconda3/envs/ml/lib/python3.12/site-packages/sklearn/linear_model/_coordinate_descent.py:697: ConvergenceWarning: Objective did not converge. You might want to increase the number of iterations, check the scale of the features or consider increasing regularisation. Duality gap: 1.832e+03, tolerance: 1.954e+00 Linear regression models with null weight for the l1 regularization term are more efficiently fitted using one of the solvers implemented in sklearn.linear_model.Ridge/RidgeCV instead.\n",
      "  model = cd_fast.enet_coordinate_descent(\n"
     ]
    },
    {
     "data": {
      "image/png": "[encoded data removed]",
      "text/plain": [
       "<Figure size 640x480 with 1 Axes>"
      ]
     },
     "metadata": {},
     "output_type": "display_data"
    }
   ],
   "source": [
    "from sklearn.linear_model import Lasso\n",
    "\n",
    "\n",
    "lambdas = np.arange(0, 11)\n",
    "lasso_models = []\n",
    "train_maes = []\n",
    "validation_maes = []\n",
    "\n",
    "for value in lambdas:\n",
    "    model = Lasso(alpha=value)\n",
    "    model.fit(train[predictors], train[target])\n",
    "    lasso_models.append(model)\n",
    "    \n",
    "    train_maes.append(calculate_mae(model, train, target))\n",
    "    validation_maes.append(calculate_mae(model, validation, target))\n",
    "\n",
    "plt.plot(np.arange(len(lambdas)), train_maes)\n",
    "plt.plot(np.arange(len(lambdas)), validation_maes)\n",
    "plt.show()"
   ]
  },
  {
   "cell_type": "markdown",
   "id": "55984db8-833f-419a-9498-794a4d069b7f",
   "metadata": {},
   "source": [
    "3. Using the values plotted in b), print the lambda yielding the best model based on training MAE and validation MAE, and their corresponding MAE values."
   ]
  },
  {
   "cell_type": "code",
   "execution_count": 8,
   "id": "0e9f0928-aa9f-4015-8b81-fbf910c577b0",
   "metadata": {},
   "outputs": [
    {
     "name": "stdout",
     "output_type": "stream",
     "text": [
      "The best model based on the training set had a lambda of 0, achieving an MAE of 2.58\n",
      "The best model based on the validation set had a lambda of 0, achieving an MAE of 2.83\n"
     ]
    }
   ],
   "source": [
    "best_idx_train = np.argmin(train_maes)\n",
    "print('The best model based on the training set had a lambda of '\n",
    "      f'{lambdas[best_idx_train]}, achieving an MAE of '\n",
    "      f'{train_maes[best_idx_train]:.2f}')\n",
    "\n",
    "best_idx_validation = np.argmin(validation_maes)\n",
    "print('The best model based on the validation set had a lambda of '\n",
    "      f'{lambdas[best_idx_validation]}, achieving an MAE of '\n",
    "      f'{validation_maes[best_idx_validation]:.2f}')\n",
    "\n",
    "best_lasso_model = lasso_models[best_idx_validation]"
   ]
  },
  {
   "cell_type": "markdown",
   "id": "a6959438-ea81-4b01-925e-9063468c469c",
   "metadata": {},
   "source": [
    "4. Reflection: Is the best model based on training MAE and validation MAE using the same lambda? If not, why not? What would be the general pattern we expect to see here?"
   ]
  },
  {
   "cell_type": "markdown",
   "id": "5e3ad603-2c9d-4e4b-ac51-35f73bb08283",
   "metadata": {},
   "source": [
    "_The best model in both the training and validation set uses a lambda of 0 in this case. This is not guaranteed to happen. Generally, we expect the training MAE to improve as lambda decreases. Furthermore, as a low lambda generally yields overfitting and a high lambda generally yields underfitting, we expect the validation MAEs to have a U-shape_"
   ]
  },
  {
   "cell_type": "markdown",
   "id": "56fca62d-2da2-46a3-bd24-e30579129961",
   "metadata": {},
   "source": [
    "5. Plot predictions against actual values and for the validation set using the best model"
   ]
  },
  {
   "cell_type": "code",
   "execution_count": 9,
   "id": "0e7d2909-6e1e-4d40-a745-757c0702ba57",
   "metadata": {},
   "outputs": [
    {
     "data": {
      "image/png": "[encoded data removed]",
      "text/plain": [
       "<Figure size 640x480 with 1 Axes>"
      ]
     },
     "metadata": {},
     "output_type": "display_data"
    }
   ],
   "source": [
    "predictions = lasso_models[best_idx_validation].predict(\n",
    "    validation[predictors]\n",
    ")\n",
    "\n",
    "plt.scatter(validation[target], predictions)\n",
    "plt.show()"
   ]
  },
  {
   "cell_type": "markdown",
   "id": "ef7e765d-d824-442c-87f0-2c13fb61e58e",
   "metadata": {},
   "source": [
    "6. Reflection: Is the best LASSO model better or worse than the best model found using backward stepwise selection? Discuss briefly why this is/is not the case."
   ]
  },
  {
   "cell_type": "markdown",
   "id": "c808c939-647e-4c83-aa82-53a116bedaf5",
   "metadata": {},
   "source": [
    "_The best LASSO model is slightly worse than the best model found using the backward stepwise selection in this case. However, as the best LASSO model uses a lambda of 0 this is just a regular linear regression model and not that interesting to discuss. More generally, it is worth noting that the backward selection model is not guaranteed to find an optimal solution as it uses a __local heuristic__ to make a series of decisions on what predictors to include. On the other hand, the LASSO gives us an __optimal set of predictors given our chosen lambda__, and we are not guaranteed to be using the correct lambda (no matter how cleverly we try to find it). So to summarize, none of these are silver bullets. Furthermore, it is worth noting that where the backward selection simply selects a set of predictors and fits a regular linear model, the LASSO model will also apply regularization to the predictors that remain (i.e. forcing them towards 0). Whether this is good or bad is an empirical question that depends on the data (although I would argue its generally a good idea)._"
   ]
  },
  {
   "cell_type": "markdown",
   "id": "33762272-d539-4cb3-b369-72a9b7b61755",
   "metadata": {},
   "source": [
    "7. Print the names and coefficients of the predictors that are used by the LASSO model (e.g. not set to 0). How does this compare to the list you found using backwards stepwise selection?"
   ]
  },
  {
   "cell_type": "code",
   "execution_count": 10,
   "id": "259788a8-2897-4dd9-8cca-0b657d074666",
   "metadata": {},
   "outputs": [
    {
     "name": "stdout",
     "output_type": "stream",
     "text": [
      "Best predictors according to the LASSO models: ['cylinders', 'displacement', 'horsepower', 'weight', 'acceleration', 'year']\n",
      "Best predictors according to the backward selection: ['weight' 'acceleration' 'year']\n"
     ]
    }
   ],
   "source": [
    "lasso_predictors = [predictor for i, predictor in \\\n",
    "                    enumerate(best_lasso_model.feature_names_in_) \\\n",
    "                    if best_lasso_model.coef_[i] != 0]\n",
    "print('Best predictors according to the LASSO models: '\n",
    "      f'{lasso_predictors}')\n",
    "\n",
    "selection_predictors = best_selection_model.feature_names_in_\n",
    "print('Best predictors according to the backward selection: '\n",
    "      f'{selection_predictors}')"
   ]
  },
  {
   "cell_type": "markdown",
   "id": "58025345-429d-4812-bd86-cb84280ecc8d",
   "metadata": {},
   "source": [
    "_Because the best LASSO model used a lambda of 0 it retains all predictors, and as such it is not that interesting to compare the two lists. However, if the chosen LASSO model applied some regularization (e.g. lambda > 0), I would expect the two lists to converge. However, it is worth noting that there is not theoretical guarantee this is bound to happen._"
   ]
  }
 ],
 "metadata": {
  "kernelspec": {
   "display_name": "Python 3 (ipykernel)",
   "language": "python",
   "name": "python3"
  },
  "language_info": {
   "codemirror_mode": {
    "name": "ipython",
    "version": 3
   },
   "file_extension": ".py",
   "mimetype": "text/x-python",
   "name": "python",
   "nbconvert_exporter": "python",
   "pygments_lexer": "ipython3",
   "version": "3.12.4"
  }
 },
 "nbformat": 4,
 "nbformat_minor": 5
}
